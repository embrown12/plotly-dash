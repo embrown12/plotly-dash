{
 "cells": [
  {
   "cell_type": "markdown",
   "metadata": {},
   "source": [
    "### Why I choose the \"Global Country Information Dataset 2023\" Dataset\n",
    "\n",
    "As my major is Foreign Affairs, I thought that looking at a dataset that includes different metrics for each country would be a cool way to merge my knowledge in my major and minor.\n",
    "\n",
    "This dataset includes many interesting metrics, such as Co2 emissions, birth rate, GDP, and many other data points. Using these data for a dashboard could be fascinating to look at GDP and Co2 emissions of each country, the relationship between birth rate and out of pocket health expenditures, or to even just give a brief overview about each country to the user. Moreover, since the data were collected in 2023, it can give the user a more current understanding of what many countries face contemporarily, both challenges and successes. "
   ]
  },
  {
   "cell_type": "markdown",
   "metadata": {},
   "source": [
    "### Data Provenance\n",
    "\n",
    "The dataset was originally downloaded locally on February 20, 2024. The dataset can be found at this [Kaggle website link.](https://www.kaggle.com/datasets/nelgiriyewithana/countries-of-the-world-2023) \n",
    "\n",
    "The dataset used in this project is Version 1, entitled world-data-2023.csv. \n",
    "\n",
    "The collaborator and owner of the dataset is Nidula Elgiriyewithana. They cite they used multiple data sources, not specifically stating which sources, and their collection methodology was Python.\n",
    "\n",
    "\n"
   ]
  },
  {
   "cell_type": "code",
   "execution_count": 66,
   "metadata": {},
   "outputs": [],
   "source": [
    "# Import dependencies\n",
    "import pandas as pd\n",
    "import numpy as np\n",
    "import matplotlib.pyplot as plt"
   ]
  },
  {
   "cell_type": "code",
   "execution_count": 2,
   "metadata": {},
   "outputs": [],
   "source": [
    "# Importing the csv file\n",
    "df = pd.read_csv(r'C:\\Users\\emily\\OneDrive\\Desktop\\DS4003\\world-data-2023.csv')"
   ]
  },
  {
   "cell_type": "markdown",
   "metadata": {},
   "source": [
    "Firstly, starting to look at the dataframe and what it includes uncleaned"
   ]
  },
  {
   "cell_type": "code",
   "execution_count": 3,
   "metadata": {},
   "outputs": [
    {
     "name": "stdout",
     "output_type": "stream",
     "text": [
      "(195, 35)\n"
     ]
    }
   ],
   "source": [
    "# Looking at the shape of the df, x= country name, y = variable measured (ex. GDP)\n",
    "print(df.shape)"
   ]
  },
  {
   "cell_type": "code",
   "execution_count": 4,
   "metadata": {},
   "outputs": [
    {
     "name": "stdout",
     "output_type": "stream",
     "text": [
      "Country                                       object\n",
      "Density\\n(P/Km2)                              object\n",
      "Abbreviation                                  object\n",
      "Agricultural Land( %)                         object\n",
      "Land Area(Km2)                                object\n",
      "Armed Forces size                             object\n",
      "Birth Rate                                   float64\n",
      "Calling Code                                 float64\n",
      "Capital/Major City                            object\n",
      "Co2-Emissions                                 object\n",
      "CPI                                           object\n",
      "CPI Change (%)                                object\n",
      "Currency-Code                                 object\n",
      "Fertility Rate                               float64\n",
      "Forested Area (%)                             object\n",
      "Gasoline Price                                object\n",
      "GDP                                           object\n",
      "Gross primary education enrollment (%)        object\n",
      "Gross tertiary education enrollment (%)       object\n",
      "Infant mortality                             float64\n",
      "Largest city                                  object\n",
      "Life expectancy                              float64\n",
      "Maternal mortality ratio                     float64\n",
      "Minimum wage                                  object\n",
      "Official language                             object\n",
      "Out of pocket health expenditure              object\n",
      "Physicians per thousand                      float64\n",
      "Population                                    object\n",
      "Population: Labor force participation (%)     object\n",
      "Tax revenue (%)                               object\n",
      "Total tax rate                                object\n",
      "Unemployment rate                             object\n",
      "Urban_population                              object\n",
      "Latitude                                     float64\n",
      "Longitude                                    float64\n",
      "dtype: object\n"
     ]
    }
   ],
   "source": [
    "# Looking at the variable types\n",
    "print(df.dtypes)"
   ]
  },
  {
   "cell_type": "code",
   "execution_count": 5,
   "metadata": {},
   "outputs": [
    {
     "name": "stdout",
     "output_type": "stream",
     "text": [
      "Index(['Abbreviation', 'Agricultural Land( %)', 'Land Area(Km2)',\n",
      "       'Armed Forces size', 'Birth Rate'],\n",
      "      dtype='object')\n"
     ]
    }
   ],
   "source": [
    "# Looking at columns 2-7, randomly chosen to just see names\n",
    "print(df.columns[2:7])"
   ]
  },
  {
   "cell_type": "code",
   "execution_count": 6,
   "metadata": {},
   "outputs": [
    {
     "name": "stdout",
     "output_type": "stream",
     "text": [
      "['Country', 'Density\\n(P/Km2)', 'Abbreviation', 'Agricultural Land( %)', 'Land Area(Km2)', 'Armed Forces size', 'Birth Rate', 'Calling Code', 'Capital/Major City', 'Co2-Emissions', 'CPI', 'CPI Change (%)', 'Currency-Code', 'Fertility Rate', 'Forested Area (%)', 'Gasoline Price', 'GDP', 'Gross primary education enrollment (%)', 'Gross tertiary education enrollment (%)', 'Infant mortality', 'Largest city', 'Life expectancy', 'Maternal mortality ratio', 'Minimum wage', 'Official language', 'Out of pocket health expenditure', 'Physicians per thousand', 'Population', 'Population: Labor force participation (%)', 'Tax revenue (%)', 'Total tax rate', 'Unemployment rate', 'Urban_population', 'Latitude', 'Longitude']\n"
     ]
    }
   ],
   "source": [
    "# Looking at all the columns by putting them in a list\n",
    "column_list = []\n",
    "for col in df.columns:\n",
    "    column_list.append(str(col))\n",
    "print(column_list)"
   ]
  },
  {
   "cell_type": "markdown",
   "metadata": {},
   "source": [
    "I am dropping the following columns because of many different reasons. Abbreviations are not useful for any visualization.\n",
    "\n",
    "\n",
    "Density, calling code, currency code, forested area (%), largest area, gross primary education enrollment (%), gross tertiary education enrollment (%) are not a variables that are not being used for analysis since they are not particularly significant in comparing among countries. \n",
    "\n",
    "Urban population is not included because of each country's population varies greatly. Minimum wage is not included because the Kaggle document says that minimum wage is in local currency but the values are in USD and therefore the discrepancy is too great to keep in the dataframe.\n",
    "\n",
    "Total tax rate, maternal mortality ratio, physicians per thousand, and Population: Labor force participation (%) were just variables that were not relevant for the dashboard visualizations."
   ]
  },
  {
   "cell_type": "code",
   "execution_count": 7,
   "metadata": {},
   "outputs": [],
   "source": [
    "# Now dropping the unwanted columns\n",
    "df = df.drop(columns=['Abbreviation', 'Density\\n(P/Km2)', 'Calling Code', 'Currency-Code', \n",
    "                      'Forested Area (%)', 'Largest city', 'Gross primary education enrollment (%)', 'Gross tertiary education enrollment (%)', \n",
    "                      'Urban_population', 'Minimum wage', 'Total tax rate', 'Maternal mortality ratio', \n",
    "                      'Physicians per thousand', 'Population: Labor force participation (%)'])"
   ]
  },
  {
   "cell_type": "code",
   "execution_count": 8,
   "metadata": {},
   "outputs": [
    {
     "name": "stdout",
     "output_type": "stream",
     "text": [
      "Country\n",
      "Agricultural Land( %)\n",
      "Land Area(Km2)\n",
      "Armed Forces size\n",
      "Birth Rate\n",
      "Capital/Major City\n",
      "Co2-Emissions\n",
      "CPI\n",
      "CPI Change (%)\n",
      "Fertility Rate\n",
      "Gasoline Price\n",
      "GDP\n",
      "Infant mortality\n",
      "Life expectancy\n",
      "Official language\n",
      "Out of pocket health expenditure\n",
      "Population\n",
      "Tax revenue (%)\n",
      "Unemployment rate\n",
      "Latitude\n",
      "Longitude\n"
     ]
    }
   ],
   "source": [
    "# Check if the columns were dropped\n",
    "for col in df.columns:\n",
    "    print(col)"
   ]
  },
  {
   "cell_type": "code",
   "execution_count": 9,
   "metadata": {},
   "outputs": [],
   "source": [
    "# Renaming the columns to make it easier to reference\n",
    "df = df.rename(columns= {'Agricultural Land( %)': 'agr_land',\n",
    "                         'Land Area(Km2)': 'land_area',\n",
    "                         'Armed Forces size': 'armed_force',\n",
    "                         'Capital/Major City': 'cap_city',\n",
    "                         'Co2-Emissions': 'Co2',\n",
    "                         'CPI Change (%)': 'CPI_change',\n",
    "                         'Fertility Rate': 'fert_rate',\n",
    "                         'Gasoline Price': 'gas',\n",
    "                         'Infant mortality': 'child_death',\n",
    "                         'Life expectancy' : 'life_expect',\n",
    "                         'Official language': 'lang',\n",
    "                         'Out of pocket health expenditure': 'health_cost',\n",
    "                         'Population': 'pop',\n",
    "                         'Tax revenue (%)': 'tax_rev',\n",
    "                         'Total tax rate': 'tax_rate',\n",
    "                         'Unemployment rate' : 'unemploy',\n",
    "                         'Latitude': 'lat',\n",
    "                         'Longitude' : 'lat'\n",
    "                         }\n",
    "               )\n"
   ]
  },
  {
   "cell_type": "code",
   "execution_count": 10,
   "metadata": {},
   "outputs": [
    {
     "name": "stdout",
     "output_type": "stream",
     "text": [
      "Country\n",
      "agr_land\n",
      "land_area\n",
      "armed_force\n",
      "Birth Rate\n",
      "cap_city\n",
      "Co2\n",
      "CPI\n",
      "CPI_change\n",
      "fert_rate\n",
      "gas\n",
      "GDP\n",
      "child_death\n",
      "life_expect\n",
      "lang\n",
      "health_cost\n",
      "pop\n",
      "tax_rev\n",
      "unemploy\n",
      "lat\n",
      "lat\n"
     ]
    }
   ],
   "source": [
    "for col in df.columns:\n",
    "    print(col)"
   ]
  },
  {
   "cell_type": "markdown",
   "metadata": {},
   "source": [
    "Now, with renamed columns, let's take a look at each variable and clean them up even more."
   ]
  },
  {
   "cell_type": "code",
   "execution_count": 11,
   "metadata": {},
   "outputs": [
    {
     "name": "stdout",
     "output_type": "stream",
     "text": [
      "['Afghanistan', 'Albania', 'Algeria', 'Andorra', 'Angola', 'Antigua and Barbuda', 'Argentina', 'Armenia', 'Australia', 'Austria', 'Azerbaijan', 'The Bahamas', 'Bahrain', 'Bangladesh', 'Barbados', 'Belarus', 'Belgium', 'Belize', 'Benin', 'Bhutan', 'Bolivia', 'Bosnia and Herzegovina', 'Botswana', 'Brazil', 'Brunei', 'Bulgaria', 'Burkina Faso', 'Burundi', 'Ivory Coast', 'Cape Verde', 'Cambodia', 'Cameroon', 'Canada', 'Central African Republic', 'Chad', 'Chile', 'China', 'Colombia', 'Comoros', 'Republic of the Congo', 'Costa Rica', 'Croatia', 'Cuba', 'Cyprus', 'Czech Republic', 'Democratic Republic of the Congo', 'Denmark', 'Djibouti', 'Dominica', 'Dominican Republic', 'Ecuador', 'Egypt', 'El Salvador', 'Equatorial Guinea', 'Eritrea', 'Estonia', 'Eswatini', 'Ethiopia', 'Fiji', 'Finland', 'France', 'Gabon', 'The Gambia', 'Georgia', 'Germany', 'Ghana', 'Greece', 'Grenada', 'Guatemala', 'Guinea', 'Guinea-Bissau', 'Guyana', 'Haiti', 'Vatican City', 'Honduras', 'Hungary', 'Iceland', 'India', 'Indonesia', 'Iran', 'Iraq', 'Republic of Ireland', 'Israel', 'Italy', 'Jamaica', 'Japan', 'Jordan', 'Kazakhstan', 'Kenya', 'Kiribati', 'Kuwait', 'Kyrgyzstan', 'Laos', 'Latvia', 'Lebanon', 'Lesotho', 'Liberia', 'Libya', 'Liechtenstein', 'Lithuania', 'Luxembourg', 'Madagascar', 'Malawi', 'Malaysia', 'Maldives', 'Mali', 'Malta', 'Marshall Islands', 'Mauritania', 'Mauritius', 'Mexico', 'Federated States of Micronesia', 'Moldova', 'Monaco', 'Mongolia', 'Montenegro', 'Morocco', 'Mozambique', 'Myanmar', 'Namibia', 'Nauru', 'Nepal', 'Netherlands', 'New Zealand', 'Nicaragua', 'Niger', 'Nigeria', 'North Korea', 'North Macedonia', 'Norway', 'Oman', 'Pakistan', 'Palau', 'Palestinian National Authority', 'Panama', 'Papua New Guinea', 'Paraguay', 'Peru', 'Philippines', 'Poland', 'Portugal', 'Qatar', 'Romania', 'Russia', 'Rwanda', 'Saint Kitts and Nevis', 'Saint Lucia', 'Saint Vincent and the Grenadines', 'Samoa', 'San Marino', 'S�����������', 'Saudi Arabia', 'Senegal', 'Serbia', 'Seychelles', 'Sierra Leone', 'Singapore', 'Slovakia', 'Slovenia', 'Solomon Islands', 'Somalia', 'South Africa', 'South Korea', 'South Sudan', 'Spain', 'Sri Lanka', 'Sudan', 'Suriname', 'Sweden', 'Switzerland', 'Syria', 'Tajikistan', 'Tanzania', 'Thailand', 'East Timor', 'Togo', 'Tonga', 'Trinidad and Tobago', 'Tunisia', 'Turkey', 'Turkmenistan', 'Tuvalu', 'Uganda', 'Ukraine', 'United Arab Emirates', 'United Kingdom', 'United States', 'Uruguay', 'Uzbekistan', 'Vanuatu', 'Venezuela', 'Vietnam', 'Yemen', 'Zambia', 'Zimbabwe']\n"
     ]
    }
   ],
   "source": [
    "# Let's look at the Country column to see if anything is looking strange\n",
    "Country_list = df['Country'].tolist()\n",
    "print(Country_list)"
   ]
  },
  {
   "cell_type": "code",
   "execution_count": 12,
   "metadata": {},
   "outputs": [],
   "source": [
    "# Let's drop the country \"S�����������\", because this is not a country\n",
    "df = df[df['Country'] != 'S�����������']"
   ]
  },
  {
   "cell_type": "code",
   "execution_count": 13,
   "metadata": {},
   "outputs": [
    {
     "name": "stdout",
     "output_type": "stream",
     "text": [
      "['Afghanistan', 'Albania', 'Algeria', 'Andorra', 'Angola', 'Antigua and Barbuda', 'Argentina', 'Armenia', 'Australia', 'Austria', 'Azerbaijan', 'The Bahamas', 'Bahrain', 'Bangladesh', 'Barbados', 'Belarus', 'Belgium', 'Belize', 'Benin', 'Bhutan', 'Bolivia', 'Bosnia and Herzegovina', 'Botswana', 'Brazil', 'Brunei', 'Bulgaria', 'Burkina Faso', 'Burundi', 'Ivory Coast', 'Cape Verde', 'Cambodia', 'Cameroon', 'Canada', 'Central African Republic', 'Chad', 'Chile', 'China', 'Colombia', 'Comoros', 'Republic of the Congo', 'Costa Rica', 'Croatia', 'Cuba', 'Cyprus', 'Czech Republic', 'Democratic Republic of the Congo', 'Denmark', 'Djibouti', 'Dominica', 'Dominican Republic', 'Ecuador', 'Egypt', 'El Salvador', 'Equatorial Guinea', 'Eritrea', 'Estonia', 'Eswatini', 'Ethiopia', 'Fiji', 'Finland', 'France', 'Gabon', 'The Gambia', 'Georgia', 'Germany', 'Ghana', 'Greece', 'Grenada', 'Guatemala', 'Guinea', 'Guinea-Bissau', 'Guyana', 'Haiti', 'Vatican City', 'Honduras', 'Hungary', 'Iceland', 'India', 'Indonesia', 'Iran', 'Iraq', 'Republic of Ireland', 'Israel', 'Italy', 'Jamaica', 'Japan', 'Jordan', 'Kazakhstan', 'Kenya', 'Kiribati', 'Kuwait', 'Kyrgyzstan', 'Laos', 'Latvia', 'Lebanon', 'Lesotho', 'Liberia', 'Libya', 'Liechtenstein', 'Lithuania', 'Luxembourg', 'Madagascar', 'Malawi', 'Malaysia', 'Maldives', 'Mali', 'Malta', 'Marshall Islands', 'Mauritania', 'Mauritius', 'Mexico', 'Federated States of Micronesia', 'Moldova', 'Monaco', 'Mongolia', 'Montenegro', 'Morocco', 'Mozambique', 'Myanmar', 'Namibia', 'Nauru', 'Nepal', 'Netherlands', 'New Zealand', 'Nicaragua', 'Niger', 'Nigeria', 'North Korea', 'North Macedonia', 'Norway', 'Oman', 'Pakistan', 'Palau', 'Palestinian National Authority', 'Panama', 'Papua New Guinea', 'Paraguay', 'Peru', 'Philippines', 'Poland', 'Portugal', 'Qatar', 'Romania', 'Russia', 'Rwanda', 'Saint Kitts and Nevis', 'Saint Lucia', 'Saint Vincent and the Grenadines', 'Samoa', 'San Marino', 'Saudi Arabia', 'Senegal', 'Serbia', 'Seychelles', 'Sierra Leone', 'Singapore', 'Slovakia', 'Slovenia', 'Solomon Islands', 'Somalia', 'South Africa', 'South Korea', 'South Sudan', 'Spain', 'Sri Lanka', 'Sudan', 'Suriname', 'Sweden', 'Switzerland', 'Syria', 'Tajikistan', 'Tanzania', 'Thailand', 'East Timor', 'Togo', 'Tonga', 'Trinidad and Tobago', 'Tunisia', 'Turkey', 'Turkmenistan', 'Tuvalu', 'Uganda', 'Ukraine', 'United Arab Emirates', 'United Kingdom', 'United States', 'Uruguay', 'Uzbekistan', 'Vanuatu', 'Venezuela', 'Vietnam', 'Yemen', 'Zambia', 'Zimbabwe']\n"
     ]
    }
   ],
   "source": [
    "# See if it's still there\n",
    "Country_list2 = df['Country'].tolist()\n",
    "print(Country_list2)"
   ]
  },
  {
   "cell_type": "code",
   "execution_count": 14,
   "metadata": {},
   "outputs": [
    {
     "data": {
      "text/plain": [
       "Country         0\n",
       "agr_land        7\n",
       "land_area       1\n",
       "armed_force    24\n",
       "Birth Rate      6\n",
       "cap_city        3\n",
       "Co2             7\n",
       "CPI            17\n",
       "CPI_change     16\n",
       "fert_rate       7\n",
       "gas            19\n",
       "GDP             2\n",
       "child_death     6\n",
       "life_expect     8\n",
       "lang            4\n",
       "health_cost     7\n",
       "pop             1\n",
       "tax_rev        26\n",
       "unemploy       19\n",
       "lat             0\n",
       "lat             0\n",
       "dtype: int64"
      ]
     },
     "execution_count": 14,
     "metadata": {},
     "output_type": "execute_result"
    }
   ],
   "source": [
    "# Let's take a look at the missing values for each column\n",
    "df.isna().sum()"
   ]
  },
  {
   "cell_type": "markdown",
   "metadata": {},
   "source": [
    "There are a few missing items in almost every variable. Based off this, I will drop the \"armed_force\", since there are 25 missing vlaues in this column. "
   ]
  },
  {
   "cell_type": "code",
   "execution_count": 15,
   "metadata": {},
   "outputs": [],
   "source": [
    "df = df.drop(columns='armed_force') "
   ]
  },
  {
   "cell_type": "code",
   "execution_count": 16,
   "metadata": {},
   "outputs": [
    {
     "data": {
      "text/plain": [
       "['Andorra',\n",
       " 'Cuba',\n",
       " 'Eritrea',\n",
       " 'Eswatini',\n",
       " 'Vatican City',\n",
       " 'Liechtenstein',\n",
       " 'Marshall Islands',\n",
       " 'Monaco',\n",
       " 'Nauru',\n",
       " 'North Korea',\n",
       " 'North Macedonia',\n",
       " 'Palestinian National Authority',\n",
       " 'San Marino',\n",
       " 'Somalia',\n",
       " 'Turkmenistan',\n",
       " 'Tuvalu']"
      ]
     },
     "execution_count": 16,
     "metadata": {},
     "output_type": "execute_result"
    }
   ],
   "source": [
    "# Looking at each country and seeing how many NaNs they have\n",
    "country_nan = df.isna().sum(axis=1)\n",
    "\n",
    "df[country_nan >= 3]['Country'].tolist()"
   ]
  },
  {
   "cell_type": "markdown",
   "metadata": {},
   "source": [
    "Looking at the countries, these have 3 or more missing data (NaNs) for the respective columns. A few of these countries, such as Cuba, North Korea, and Turkmenistan, have authoritarian governments, which might have an incentive to not include certain data to report, hence them missing data. Others might be developing nations and therefore might lack the infrastructure to collect respective data. Nevertheless, I will be dropping these countries for analysis/dashboard purposes. "
   ]
  },
  {
   "cell_type": "code",
   "execution_count": 17,
   "metadata": {},
   "outputs": [
    {
     "data": {
      "text/html": [
       "<div>\n",
       "<style scoped>\n",
       "    .dataframe tbody tr th:only-of-type {\n",
       "        vertical-align: middle;\n",
       "    }\n",
       "\n",
       "    .dataframe tbody tr th {\n",
       "        vertical-align: top;\n",
       "    }\n",
       "\n",
       "    .dataframe thead th {\n",
       "        text-align: right;\n",
       "    }\n",
       "</style>\n",
       "<table border=\"1\" class=\"dataframe\">\n",
       "  <thead>\n",
       "    <tr style=\"text-align: right;\">\n",
       "      <th></th>\n",
       "      <th>Country</th>\n",
       "      <th>agr_land</th>\n",
       "      <th>land_area</th>\n",
       "      <th>Birth Rate</th>\n",
       "      <th>cap_city</th>\n",
       "      <th>Co2</th>\n",
       "      <th>CPI</th>\n",
       "      <th>CPI_change</th>\n",
       "      <th>fert_rate</th>\n",
       "      <th>gas</th>\n",
       "      <th>GDP</th>\n",
       "      <th>child_death</th>\n",
       "      <th>life_expect</th>\n",
       "      <th>lang</th>\n",
       "      <th>health_cost</th>\n",
       "      <th>pop</th>\n",
       "      <th>tax_rev</th>\n",
       "      <th>unemploy</th>\n",
       "      <th>lat</th>\n",
       "      <th>lat</th>\n",
       "    </tr>\n",
       "  </thead>\n",
       "  <tbody>\n",
       "    <tr>\n",
       "      <th>0</th>\n",
       "      <td>Afghanistan</td>\n",
       "      <td>58.10%</td>\n",
       "      <td>652,230</td>\n",
       "      <td>32.49</td>\n",
       "      <td>Kabul</td>\n",
       "      <td>8,672</td>\n",
       "      <td>149.9</td>\n",
       "      <td>2.30%</td>\n",
       "      <td>4.47</td>\n",
       "      <td>$0.70</td>\n",
       "      <td>$19,101,353,833</td>\n",
       "      <td>47.9</td>\n",
       "      <td>64.5</td>\n",
       "      <td>Pashto</td>\n",
       "      <td>78.40%</td>\n",
       "      <td>38,041,754</td>\n",
       "      <td>9.30%</td>\n",
       "      <td>11.12%</td>\n",
       "      <td>33.939110</td>\n",
       "      <td>67.709953</td>\n",
       "    </tr>\n",
       "    <tr>\n",
       "      <th>1</th>\n",
       "      <td>Albania</td>\n",
       "      <td>43.10%</td>\n",
       "      <td>28,748</td>\n",
       "      <td>11.78</td>\n",
       "      <td>Tirana</td>\n",
       "      <td>4,536</td>\n",
       "      <td>119.05</td>\n",
       "      <td>1.40%</td>\n",
       "      <td>1.62</td>\n",
       "      <td>$1.36</td>\n",
       "      <td>$15,278,077,447</td>\n",
       "      <td>7.8</td>\n",
       "      <td>78.5</td>\n",
       "      <td>Albanian</td>\n",
       "      <td>56.90%</td>\n",
       "      <td>2,854,191</td>\n",
       "      <td>18.60%</td>\n",
       "      <td>12.33%</td>\n",
       "      <td>41.153332</td>\n",
       "      <td>20.168331</td>\n",
       "    </tr>\n",
       "    <tr>\n",
       "      <th>2</th>\n",
       "      <td>Algeria</td>\n",
       "      <td>17.40%</td>\n",
       "      <td>2,381,741</td>\n",
       "      <td>24.28</td>\n",
       "      <td>Algiers</td>\n",
       "      <td>150,006</td>\n",
       "      <td>151.36</td>\n",
       "      <td>2.00%</td>\n",
       "      <td>3.02</td>\n",
       "      <td>$0.28</td>\n",
       "      <td>$169,988,236,398</td>\n",
       "      <td>20.1</td>\n",
       "      <td>76.7</td>\n",
       "      <td>Arabic</td>\n",
       "      <td>28.10%</td>\n",
       "      <td>43,053,054</td>\n",
       "      <td>37.20%</td>\n",
       "      <td>11.70%</td>\n",
       "      <td>28.033886</td>\n",
       "      <td>1.659626</td>\n",
       "    </tr>\n",
       "    <tr>\n",
       "      <th>4</th>\n",
       "      <td>Angola</td>\n",
       "      <td>47.50%</td>\n",
       "      <td>1,246,700</td>\n",
       "      <td>40.73</td>\n",
       "      <td>Luanda</td>\n",
       "      <td>34,693</td>\n",
       "      <td>261.73</td>\n",
       "      <td>17.10%</td>\n",
       "      <td>5.52</td>\n",
       "      <td>$0.97</td>\n",
       "      <td>$94,635,415,870</td>\n",
       "      <td>51.6</td>\n",
       "      <td>60.8</td>\n",
       "      <td>Portuguese</td>\n",
       "      <td>33.40%</td>\n",
       "      <td>31,825,295</td>\n",
       "      <td>9.20%</td>\n",
       "      <td>6.89%</td>\n",
       "      <td>-11.202692</td>\n",
       "      <td>17.873887</td>\n",
       "    </tr>\n",
       "    <tr>\n",
       "      <th>5</th>\n",
       "      <td>Antigua and Barbuda</td>\n",
       "      <td>20.50%</td>\n",
       "      <td>443</td>\n",
       "      <td>15.33</td>\n",
       "      <td>St. John's, Saint John</td>\n",
       "      <td>557</td>\n",
       "      <td>113.81</td>\n",
       "      <td>1.20%</td>\n",
       "      <td>1.99</td>\n",
       "      <td>$0.99</td>\n",
       "      <td>$1,727,759,259</td>\n",
       "      <td>5.0</td>\n",
       "      <td>76.9</td>\n",
       "      <td>English</td>\n",
       "      <td>24.30%</td>\n",
       "      <td>97,118</td>\n",
       "      <td>16.50%</td>\n",
       "      <td>NaN</td>\n",
       "      <td>17.060816</td>\n",
       "      <td>-61.796428</td>\n",
       "    </tr>\n",
       "  </tbody>\n",
       "</table>\n",
       "</div>"
      ],
      "text/plain": [
       "               Country agr_land  land_area  Birth Rate  \\\n",
       "0          Afghanistan   58.10%    652,230       32.49   \n",
       "1              Albania   43.10%     28,748       11.78   \n",
       "2              Algeria   17.40%  2,381,741       24.28   \n",
       "4               Angola   47.50%  1,246,700       40.73   \n",
       "5  Antigua and Barbuda   20.50%        443       15.33   \n",
       "\n",
       "                 cap_city      Co2     CPI CPI_change  fert_rate     gas  \\\n",
       "0                   Kabul    8,672   149.9      2.30%       4.47  $0.70    \n",
       "1                  Tirana    4,536  119.05      1.40%       1.62  $1.36    \n",
       "2                 Algiers  150,006  151.36      2.00%       3.02  $0.28    \n",
       "4                  Luanda   34,693  261.73     17.10%       5.52  $0.97    \n",
       "5  St. John's, Saint John      557  113.81      1.20%       1.99  $0.99    \n",
       "\n",
       "                 GDP  child_death  life_expect        lang health_cost  \\\n",
       "0   $19,101,353,833          47.9         64.5      Pashto      78.40%   \n",
       "1   $15,278,077,447           7.8         78.5    Albanian      56.90%   \n",
       "2  $169,988,236,398          20.1         76.7      Arabic      28.10%   \n",
       "4   $94,635,415,870          51.6         60.8  Portuguese      33.40%   \n",
       "5    $1,727,759,259           5.0         76.9     English      24.30%   \n",
       "\n",
       "          pop tax_rev unemploy        lat        lat  \n",
       "0  38,041,754   9.30%   11.12%  33.939110  67.709953  \n",
       "1   2,854,191  18.60%   12.33%  41.153332  20.168331  \n",
       "2  43,053,054  37.20%   11.70%  28.033886   1.659626  \n",
       "4  31,825,295   9.20%    6.89% -11.202692  17.873887  \n",
       "5      97,118  16.50%      NaN  17.060816 -61.796428  "
      ]
     },
     "execution_count": 17,
     "metadata": {},
     "output_type": "execute_result"
    }
   ],
   "source": [
    "df = df[country_nan <= 2]\n",
    "df.head()"
   ]
  },
  {
   "cell_type": "markdown",
   "metadata": {},
   "source": [
    "Now, I am going to convert the data types. Most notably, if there is a percentage value, I will convert it to a float. If it text, I will conver it to a string."
   ]
  },
  {
   "cell_type": "code",
   "execution_count": 18,
   "metadata": {},
   "outputs": [
    {
     "name": "stdout",
     "output_type": "stream",
     "text": [
      "Country         object\n",
      "agr_land        object\n",
      "land_area       object\n",
      "Birth Rate     float64\n",
      "cap_city        object\n",
      "Co2             object\n",
      "CPI             object\n",
      "CPI_change      object\n",
      "fert_rate      float64\n",
      "gas             object\n",
      "GDP             object\n",
      "child_death    float64\n",
      "life_expect    float64\n",
      "lang            object\n",
      "health_cost     object\n",
      "pop             object\n",
      "tax_rev         object\n",
      "unemploy        object\n",
      "lat            float64\n",
      "lat            float64\n",
      "dtype: object\n"
     ]
    }
   ],
   "source": [
    "# What the data types are before cleaning\n",
    "print(df.dtypes)"
   ]
  },
  {
   "cell_type": "code",
   "execution_count": 19,
   "metadata": {},
   "outputs": [],
   "source": [
    "# Make sure the 'Country' column has string values\n",
    "string_columns = ['Country', 'cap_city', 'lang']\n",
    "df[string_columns] = df[string_columns].astype(str)"
   ]
  },
  {
   "cell_type": "code",
   "execution_count": 20,
   "metadata": {},
   "outputs": [],
   "source": [
    "# Getting rid of extra text from the cap_city column (any additional information is seperated by a comma)\n",
    "df['cap_city'] = df['cap_city'].str.split(',').str.get(0)"
   ]
  },
  {
   "cell_type": "code",
   "execution_count": 21,
   "metadata": {},
   "outputs": [],
   "source": [
    "# Making 'arg_land' into a float\n",
    "df['agr_land'] = df['agr_land'].str.strip('%').astype(float)"
   ]
  },
  {
   "cell_type": "code",
   "execution_count": 22,
   "metadata": {},
   "outputs": [],
   "source": [
    "# Making land area into a float\n",
    "df['land_area'] = df['land_area'].str.replace(',', '').astype(float)"
   ]
  },
  {
   "cell_type": "code",
   "execution_count": 24,
   "metadata": {},
   "outputs": [],
   "source": [
    "# Making CPI into a float\n",
    "df['CPI'] = df['CPI'].str.replace(',', '').astype(float)"
   ]
  },
  {
   "cell_type": "code",
   "execution_count": 25,
   "metadata": {},
   "outputs": [
    {
     "data": {
      "text/html": [
       "<div>\n",
       "<style scoped>\n",
       "    .dataframe tbody tr th:only-of-type {\n",
       "        vertical-align: middle;\n",
       "    }\n",
       "\n",
       "    .dataframe tbody tr th {\n",
       "        vertical-align: top;\n",
       "    }\n",
       "\n",
       "    .dataframe thead th {\n",
       "        text-align: right;\n",
       "    }\n",
       "</style>\n",
       "<table border=\"1\" class=\"dataframe\">\n",
       "  <thead>\n",
       "    <tr style=\"text-align: right;\">\n",
       "      <th></th>\n",
       "      <th>Country</th>\n",
       "      <th>agr_land</th>\n",
       "      <th>land_area</th>\n",
       "      <th>Birth Rate</th>\n",
       "      <th>cap_city</th>\n",
       "      <th>Co2</th>\n",
       "      <th>CPI</th>\n",
       "      <th>CPI_change</th>\n",
       "      <th>fert_rate</th>\n",
       "      <th>gas</th>\n",
       "      <th>GDP</th>\n",
       "      <th>child_death</th>\n",
       "      <th>life_expect</th>\n",
       "      <th>lang</th>\n",
       "      <th>health_cost</th>\n",
       "      <th>pop</th>\n",
       "      <th>tax_rev</th>\n",
       "      <th>unemploy</th>\n",
       "      <th>lat</th>\n",
       "      <th>lat</th>\n",
       "    </tr>\n",
       "  </thead>\n",
       "  <tbody>\n",
       "    <tr>\n",
       "      <th>0</th>\n",
       "      <td>Afghanistan</td>\n",
       "      <td>58.1</td>\n",
       "      <td>652230.0</td>\n",
       "      <td>32.49</td>\n",
       "      <td>Kabul</td>\n",
       "      <td>8,672</td>\n",
       "      <td>149.90</td>\n",
       "      <td>2.3</td>\n",
       "      <td>4.47</td>\n",
       "      <td>$0.70</td>\n",
       "      <td>$19,101,353,833</td>\n",
       "      <td>47.9</td>\n",
       "      <td>64.5</td>\n",
       "      <td>Pashto</td>\n",
       "      <td>78.40%</td>\n",
       "      <td>38,041,754</td>\n",
       "      <td>9.30%</td>\n",
       "      <td>11.12%</td>\n",
       "      <td>33.939110</td>\n",
       "      <td>67.709953</td>\n",
       "    </tr>\n",
       "    <tr>\n",
       "      <th>1</th>\n",
       "      <td>Albania</td>\n",
       "      <td>43.1</td>\n",
       "      <td>28748.0</td>\n",
       "      <td>11.78</td>\n",
       "      <td>Tirana</td>\n",
       "      <td>4,536</td>\n",
       "      <td>119.05</td>\n",
       "      <td>1.4</td>\n",
       "      <td>1.62</td>\n",
       "      <td>$1.36</td>\n",
       "      <td>$15,278,077,447</td>\n",
       "      <td>7.8</td>\n",
       "      <td>78.5</td>\n",
       "      <td>Albanian</td>\n",
       "      <td>56.90%</td>\n",
       "      <td>2,854,191</td>\n",
       "      <td>18.60%</td>\n",
       "      <td>12.33%</td>\n",
       "      <td>41.153332</td>\n",
       "      <td>20.168331</td>\n",
       "    </tr>\n",
       "    <tr>\n",
       "      <th>2</th>\n",
       "      <td>Algeria</td>\n",
       "      <td>17.4</td>\n",
       "      <td>2381741.0</td>\n",
       "      <td>24.28</td>\n",
       "      <td>Algiers</td>\n",
       "      <td>150,006</td>\n",
       "      <td>151.36</td>\n",
       "      <td>2.0</td>\n",
       "      <td>3.02</td>\n",
       "      <td>$0.28</td>\n",
       "      <td>$169,988,236,398</td>\n",
       "      <td>20.1</td>\n",
       "      <td>76.7</td>\n",
       "      <td>Arabic</td>\n",
       "      <td>28.10%</td>\n",
       "      <td>43,053,054</td>\n",
       "      <td>37.20%</td>\n",
       "      <td>11.70%</td>\n",
       "      <td>28.033886</td>\n",
       "      <td>1.659626</td>\n",
       "    </tr>\n",
       "    <tr>\n",
       "      <th>4</th>\n",
       "      <td>Angola</td>\n",
       "      <td>47.5</td>\n",
       "      <td>1246700.0</td>\n",
       "      <td>40.73</td>\n",
       "      <td>Luanda</td>\n",
       "      <td>34,693</td>\n",
       "      <td>261.73</td>\n",
       "      <td>17.1</td>\n",
       "      <td>5.52</td>\n",
       "      <td>$0.97</td>\n",
       "      <td>$94,635,415,870</td>\n",
       "      <td>51.6</td>\n",
       "      <td>60.8</td>\n",
       "      <td>Portuguese</td>\n",
       "      <td>33.40%</td>\n",
       "      <td>31,825,295</td>\n",
       "      <td>9.20%</td>\n",
       "      <td>6.89%</td>\n",
       "      <td>-11.202692</td>\n",
       "      <td>17.873887</td>\n",
       "    </tr>\n",
       "    <tr>\n",
       "      <th>5</th>\n",
       "      <td>Antigua and Barbuda</td>\n",
       "      <td>20.5</td>\n",
       "      <td>443.0</td>\n",
       "      <td>15.33</td>\n",
       "      <td>St. John's</td>\n",
       "      <td>557</td>\n",
       "      <td>113.81</td>\n",
       "      <td>1.2</td>\n",
       "      <td>1.99</td>\n",
       "      <td>$0.99</td>\n",
       "      <td>$1,727,759,259</td>\n",
       "      <td>5.0</td>\n",
       "      <td>76.9</td>\n",
       "      <td>English</td>\n",
       "      <td>24.30%</td>\n",
       "      <td>97,118</td>\n",
       "      <td>16.50%</td>\n",
       "      <td>NaN</td>\n",
       "      <td>17.060816</td>\n",
       "      <td>-61.796428</td>\n",
       "    </tr>\n",
       "  </tbody>\n",
       "</table>\n",
       "</div>"
      ],
      "text/plain": [
       "               Country  agr_land  land_area  Birth Rate    cap_city      Co2  \\\n",
       "0          Afghanistan      58.1   652230.0       32.49       Kabul    8,672   \n",
       "1              Albania      43.1    28748.0       11.78      Tirana    4,536   \n",
       "2              Algeria      17.4  2381741.0       24.28     Algiers  150,006   \n",
       "4               Angola      47.5  1246700.0       40.73      Luanda   34,693   \n",
       "5  Antigua and Barbuda      20.5      443.0       15.33  St. John's      557   \n",
       "\n",
       "      CPI  CPI_change  fert_rate     gas                GDP  child_death  \\\n",
       "0  149.90         2.3       4.47  $0.70    $19,101,353,833          47.9   \n",
       "1  119.05         1.4       1.62  $1.36    $15,278,077,447           7.8   \n",
       "2  151.36         2.0       3.02  $0.28   $169,988,236,398          20.1   \n",
       "4  261.73        17.1       5.52  $0.97    $94,635,415,870          51.6   \n",
       "5  113.81         1.2       1.99  $0.99     $1,727,759,259           5.0   \n",
       "\n",
       "   life_expect        lang health_cost         pop tax_rev unemploy  \\\n",
       "0         64.5      Pashto      78.40%  38,041,754   9.30%   11.12%   \n",
       "1         78.5    Albanian      56.90%   2,854,191  18.60%   12.33%   \n",
       "2         76.7      Arabic      28.10%  43,053,054  37.20%   11.70%   \n",
       "4         60.8  Portuguese      33.40%  31,825,295   9.20%    6.89%   \n",
       "5         76.9     English      24.30%      97,118  16.50%      NaN   \n",
       "\n",
       "         lat        lat  \n",
       "0  33.939110  67.709953  \n",
       "1  41.153332  20.168331  \n",
       "2  28.033886   1.659626  \n",
       "4 -11.202692  17.873887  \n",
       "5  17.060816 -61.796428  "
      ]
     },
     "execution_count": 25,
     "metadata": {},
     "output_type": "execute_result"
    }
   ],
   "source": [
    "# Making CPI_change into a float\n",
    "df['CPI_change'] = df['CPI_change'].str.strip('%').astype(float)\n",
    "df.head()"
   ]
  },
  {
   "cell_type": "code",
   "execution_count": 26,
   "metadata": {},
   "outputs": [],
   "source": [
    "# Making the rest of the categories with a percentage value into floats\n",
    "df['health_cost'] = df['health_cost'].str.strip('%').astype(float)"
   ]
  },
  {
   "cell_type": "code",
   "execution_count": 27,
   "metadata": {},
   "outputs": [],
   "source": [
    "# Tax revenue into a float\n",
    "df['tax_rev'] = df['tax_rev'].str.strip('%').astype(float)"
   ]
  },
  {
   "cell_type": "code",
   "execution_count": 28,
   "metadata": {},
   "outputs": [],
   "source": [
    "# Unemployement rate into a float\n",
    "df['unemploy'] = df['unemploy'].str.strip('%').astype(float)"
   ]
  },
  {
   "cell_type": "code",
   "execution_count": 30,
   "metadata": {},
   "outputs": [],
   "source": [
    "# Transforming the money-valued categories (i.e $50,000) into floats\n",
    "\n",
    "#First, making them as strings\n",
    "df['gas'] = df['gas'].astype(str)\n",
    "\n",
    "# # Then, replacing the $ and stripping other characters before converting to a float\n",
    "df['gas'] = df['gas'].str.replace('$', '').str.replace(',','').astype(float)\n"
   ]
  },
  {
   "cell_type": "code",
   "execution_count": 31,
   "metadata": {},
   "outputs": [],
   "source": [
    "#GDP conversion\n",
    "df['GDP'] = df['GDP'].astype(str)\n",
    "df['GDP'] = df['GDP'].str.replace('$', '').str.replace(',','').astype(float)"
   ]
  },
  {
   "cell_type": "code",
   "execution_count": 32,
   "metadata": {},
   "outputs": [],
   "source": [
    "#Co2 conversion\n",
    "df['Co2'] = df['Co2'].astype(str)\n",
    "df['Co2'] = df['Co2'].str.replace(',','').astype(float)"
   ]
  },
  {
   "cell_type": "code",
   "execution_count": 33,
   "metadata": {},
   "outputs": [],
   "source": [
    "# Population (pop) conversion \n",
    "df['pop'] = df['pop'].astype(str)\n",
    "df['pop'] = df['pop'].str.replace(',','').astype(float)"
   ]
  },
  {
   "cell_type": "code",
   "execution_count": 34,
   "metadata": {},
   "outputs": [],
   "source": [
    "# Dividing the GDP variable by a million to make the value more easily manipulated\n",
    "df['GDP'] = df['GDP']/1000000"
   ]
  },
  {
   "cell_type": "markdown",
   "metadata": {},
   "source": [
    "Time for exploratory analysis!"
   ]
  },
  {
   "cell_type": "code",
   "execution_count": 35,
   "metadata": {},
   "outputs": [
    {
     "data": {
      "text/html": [
       "<div>\n",
       "<style scoped>\n",
       "    .dataframe tbody tr th:only-of-type {\n",
       "        vertical-align: middle;\n",
       "    }\n",
       "\n",
       "    .dataframe tbody tr th {\n",
       "        vertical-align: top;\n",
       "    }\n",
       "\n",
       "    .dataframe thead th {\n",
       "        text-align: right;\n",
       "    }\n",
       "</style>\n",
       "<table border=\"1\" class=\"dataframe\">\n",
       "  <thead>\n",
       "    <tr style=\"text-align: right;\">\n",
       "      <th></th>\n",
       "      <th>Country</th>\n",
       "      <th>agr_land</th>\n",
       "      <th>land_area</th>\n",
       "      <th>Birth Rate</th>\n",
       "      <th>cap_city</th>\n",
       "      <th>Co2</th>\n",
       "      <th>CPI</th>\n",
       "      <th>CPI_change</th>\n",
       "      <th>fert_rate</th>\n",
       "      <th>gas</th>\n",
       "      <th>GDP</th>\n",
       "      <th>child_death</th>\n",
       "      <th>life_expect</th>\n",
       "      <th>lang</th>\n",
       "      <th>health_cost</th>\n",
       "      <th>pop</th>\n",
       "      <th>tax_rev</th>\n",
       "      <th>unemploy</th>\n",
       "      <th>lat</th>\n",
       "      <th>lat</th>\n",
       "    </tr>\n",
       "  </thead>\n",
       "  <tbody>\n",
       "    <tr>\n",
       "      <th>0</th>\n",
       "      <td>Afghanistan</td>\n",
       "      <td>58.1</td>\n",
       "      <td>652230.0</td>\n",
       "      <td>32.49</td>\n",
       "      <td>Kabul</td>\n",
       "      <td>8672.0</td>\n",
       "      <td>149.90</td>\n",
       "      <td>2.3</td>\n",
       "      <td>4.47</td>\n",
       "      <td>0.70</td>\n",
       "      <td>19101.353833</td>\n",
       "      <td>47.9</td>\n",
       "      <td>64.5</td>\n",
       "      <td>Pashto</td>\n",
       "      <td>78.4</td>\n",
       "      <td>38041754.0</td>\n",
       "      <td>9.3</td>\n",
       "      <td>11.12</td>\n",
       "      <td>33.939110</td>\n",
       "      <td>67.709953</td>\n",
       "    </tr>\n",
       "    <tr>\n",
       "      <th>1</th>\n",
       "      <td>Albania</td>\n",
       "      <td>43.1</td>\n",
       "      <td>28748.0</td>\n",
       "      <td>11.78</td>\n",
       "      <td>Tirana</td>\n",
       "      <td>4536.0</td>\n",
       "      <td>119.05</td>\n",
       "      <td>1.4</td>\n",
       "      <td>1.62</td>\n",
       "      <td>1.36</td>\n",
       "      <td>15278.077447</td>\n",
       "      <td>7.8</td>\n",
       "      <td>78.5</td>\n",
       "      <td>Albanian</td>\n",
       "      <td>56.9</td>\n",
       "      <td>2854191.0</td>\n",
       "      <td>18.6</td>\n",
       "      <td>12.33</td>\n",
       "      <td>41.153332</td>\n",
       "      <td>20.168331</td>\n",
       "    </tr>\n",
       "    <tr>\n",
       "      <th>2</th>\n",
       "      <td>Algeria</td>\n",
       "      <td>17.4</td>\n",
       "      <td>2381741.0</td>\n",
       "      <td>24.28</td>\n",
       "      <td>Algiers</td>\n",
       "      <td>150006.0</td>\n",
       "      <td>151.36</td>\n",
       "      <td>2.0</td>\n",
       "      <td>3.02</td>\n",
       "      <td>0.28</td>\n",
       "      <td>169988.236398</td>\n",
       "      <td>20.1</td>\n",
       "      <td>76.7</td>\n",
       "      <td>Arabic</td>\n",
       "      <td>28.1</td>\n",
       "      <td>43053054.0</td>\n",
       "      <td>37.2</td>\n",
       "      <td>11.70</td>\n",
       "      <td>28.033886</td>\n",
       "      <td>1.659626</td>\n",
       "    </tr>\n",
       "    <tr>\n",
       "      <th>4</th>\n",
       "      <td>Angola</td>\n",
       "      <td>47.5</td>\n",
       "      <td>1246700.0</td>\n",
       "      <td>40.73</td>\n",
       "      <td>Luanda</td>\n",
       "      <td>34693.0</td>\n",
       "      <td>261.73</td>\n",
       "      <td>17.1</td>\n",
       "      <td>5.52</td>\n",
       "      <td>0.97</td>\n",
       "      <td>94635.415870</td>\n",
       "      <td>51.6</td>\n",
       "      <td>60.8</td>\n",
       "      <td>Portuguese</td>\n",
       "      <td>33.4</td>\n",
       "      <td>31825295.0</td>\n",
       "      <td>9.2</td>\n",
       "      <td>6.89</td>\n",
       "      <td>-11.202692</td>\n",
       "      <td>17.873887</td>\n",
       "    </tr>\n",
       "    <tr>\n",
       "      <th>5</th>\n",
       "      <td>Antigua and Barbuda</td>\n",
       "      <td>20.5</td>\n",
       "      <td>443.0</td>\n",
       "      <td>15.33</td>\n",
       "      <td>St. John's</td>\n",
       "      <td>557.0</td>\n",
       "      <td>113.81</td>\n",
       "      <td>1.2</td>\n",
       "      <td>1.99</td>\n",
       "      <td>0.99</td>\n",
       "      <td>1727.759259</td>\n",
       "      <td>5.0</td>\n",
       "      <td>76.9</td>\n",
       "      <td>English</td>\n",
       "      <td>24.3</td>\n",
       "      <td>97118.0</td>\n",
       "      <td>16.5</td>\n",
       "      <td>NaN</td>\n",
       "      <td>17.060816</td>\n",
       "      <td>-61.796428</td>\n",
       "    </tr>\n",
       "  </tbody>\n",
       "</table>\n",
       "</div>"
      ],
      "text/plain": [
       "               Country  agr_land  land_area  Birth Rate    cap_city       Co2  \\\n",
       "0          Afghanistan      58.1   652230.0       32.49       Kabul    8672.0   \n",
       "1              Albania      43.1    28748.0       11.78      Tirana    4536.0   \n",
       "2              Algeria      17.4  2381741.0       24.28     Algiers  150006.0   \n",
       "4               Angola      47.5  1246700.0       40.73      Luanda   34693.0   \n",
       "5  Antigua and Barbuda      20.5      443.0       15.33  St. John's     557.0   \n",
       "\n",
       "      CPI  CPI_change  fert_rate   gas            GDP  child_death  \\\n",
       "0  149.90         2.3       4.47  0.70   19101.353833         47.9   \n",
       "1  119.05         1.4       1.62  1.36   15278.077447          7.8   \n",
       "2  151.36         2.0       3.02  0.28  169988.236398         20.1   \n",
       "4  261.73        17.1       5.52  0.97   94635.415870         51.6   \n",
       "5  113.81         1.2       1.99  0.99    1727.759259          5.0   \n",
       "\n",
       "   life_expect        lang  health_cost         pop  tax_rev  unemploy  \\\n",
       "0         64.5      Pashto         78.4  38041754.0      9.3     11.12   \n",
       "1         78.5    Albanian         56.9   2854191.0     18.6     12.33   \n",
       "2         76.7      Arabic         28.1  43053054.0     37.2     11.70   \n",
       "4         60.8  Portuguese         33.4  31825295.0      9.2      6.89   \n",
       "5         76.9     English         24.3     97118.0     16.5       NaN   \n",
       "\n",
       "         lat        lat  \n",
       "0  33.939110  67.709953  \n",
       "1  41.153332  20.168331  \n",
       "2  28.033886   1.659626  \n",
       "4 -11.202692  17.873887  \n",
       "5  17.060816 -61.796428  "
      ]
     },
     "execution_count": 35,
     "metadata": {},
     "output_type": "execute_result"
    }
   ],
   "source": [
    "# Taking a peak at how the dataset is looking\n",
    "df.head()"
   ]
  },
  {
   "cell_type": "code",
   "execution_count": 44,
   "metadata": {},
   "outputs": [],
   "source": [
    "# To make EDA easier, I am setting the index as country so I can see data by country.\n",
    "df.set_index('Country', inplace = True)"
   ]
  },
  {
   "cell_type": "code",
   "execution_count": 36,
   "metadata": {},
   "outputs": [
    {
     "data": {
      "text/plain": [
       "Country         object\n",
       "agr_land       float64\n",
       "land_area      float64\n",
       "Birth Rate     float64\n",
       "cap_city        object\n",
       "Co2            float64\n",
       "CPI            float64\n",
       "CPI_change     float64\n",
       "fert_rate      float64\n",
       "gas            float64\n",
       "GDP            float64\n",
       "child_death    float64\n",
       "life_expect    float64\n",
       "lang            object\n",
       "health_cost    float64\n",
       "pop            float64\n",
       "tax_rev        float64\n",
       "unemploy       float64\n",
       "lat            float64\n",
       "lat            float64\n",
       "dtype: object"
      ]
     },
     "execution_count": 36,
     "metadata": {},
     "output_type": "execute_result"
    }
   ],
   "source": [
    "# Looking at the data types to make sure that everything is converted to either a float or string\n",
    "df.dtypes"
   ]
  },
  {
   "cell_type": "code",
   "execution_count": 37,
   "metadata": {},
   "outputs": [
    {
     "data": {
      "text/plain": [
       "(178, 20)"
      ]
     },
     "execution_count": 37,
     "metadata": {},
     "output_type": "execute_result"
    }
   ],
   "source": [
    "# Take a look through how many observations there are\n",
    "df.shape \n",
    "# There are 178 countries and 20 columns"
   ]
  },
  {
   "cell_type": "code",
   "execution_count": 38,
   "metadata": {},
   "outputs": [
    {
     "name": "stdout",
     "output_type": "stream",
     "text": [
      "['Afghanistan' 'Albania' 'Algeria' 'Angola' 'Antigua and Barbuda'\n",
      " 'Argentina' 'Armenia' 'Australia' 'Austria' 'Azerbaijan' 'The Bahamas'\n",
      " 'Bahrain' 'Bangladesh' 'Barbados' 'Belarus' 'Belgium' 'Belize' 'Benin'\n",
      " 'Bhutan' 'Bolivia' 'Bosnia and Herzegovina' 'Botswana' 'Brazil' 'Brunei'\n",
      " 'Bulgaria' 'Burkina Faso' 'Burundi' 'Ivory Coast' 'Cape Verde' 'Cambodia'\n",
      " 'Cameroon' 'Canada' 'Central African Republic' 'Chad' 'Chile' 'China'\n",
      " 'Colombia' 'Comoros' 'Republic of the Congo' 'Costa Rica' 'Croatia'\n",
      " 'Cyprus' 'Czech Republic' 'Democratic Republic of the Congo' 'Denmark'\n",
      " 'Djibouti' 'Dominica' 'Dominican Republic' 'Ecuador' 'Egypt'\n",
      " 'El Salvador' 'Equatorial Guinea' 'Estonia' 'Ethiopia' 'Fiji' 'Finland'\n",
      " 'France' 'Gabon' 'The Gambia' 'Georgia' 'Germany' 'Ghana' 'Greece'\n",
      " 'Grenada' 'Guatemala' 'Guinea' 'Guinea-Bissau' 'Guyana' 'Haiti'\n",
      " 'Honduras' 'Hungary' 'Iceland' 'India' 'Indonesia' 'Iran' 'Iraq'\n",
      " 'Republic of Ireland' 'Israel' 'Italy' 'Jamaica' 'Japan' 'Jordan'\n",
      " 'Kazakhstan' 'Kenya' 'Kiribati' 'Kuwait' 'Kyrgyzstan' 'Laos' 'Latvia'\n",
      " 'Lebanon' 'Lesotho' 'Liberia' 'Libya' 'Lithuania' 'Luxembourg'\n",
      " 'Madagascar' 'Malawi' 'Malaysia' 'Maldives' 'Mali' 'Malta' 'Mauritania'\n",
      " 'Mauritius' 'Mexico' 'Federated States of Micronesia' 'Moldova'\n",
      " 'Mongolia' 'Montenegro' 'Morocco' 'Mozambique' 'Myanmar' 'Namibia'\n",
      " 'Nepal' 'Netherlands' 'New Zealand' 'Nicaragua' 'Niger' 'Nigeria'\n",
      " 'Norway' 'Oman' 'Pakistan' 'Palau' 'Panama' 'Papua New Guinea' 'Paraguay'\n",
      " 'Peru' 'Philippines' 'Poland' 'Portugal' 'Qatar' 'Romania' 'Russia'\n",
      " 'Rwanda' 'Saint Kitts and Nevis' 'Saint Lucia'\n",
      " 'Saint Vincent and the Grenadines' 'Samoa' 'Saudi Arabia' 'Senegal'\n",
      " 'Serbia' 'Seychelles' 'Sierra Leone' 'Singapore' 'Slovakia' 'Slovenia'\n",
      " 'Solomon Islands' 'South Africa' 'South Korea' 'South Sudan' 'Spain'\n",
      " 'Sri Lanka' 'Sudan' 'Suriname' 'Sweden' 'Switzerland' 'Syria'\n",
      " 'Tajikistan' 'Tanzania' 'Thailand' 'East Timor' 'Togo' 'Tonga'\n",
      " 'Trinidad and Tobago' 'Tunisia' 'Turkey' 'Uganda' 'Ukraine'\n",
      " 'United Arab Emirates' 'United Kingdom' 'United States' 'Uruguay'\n",
      " 'Uzbekistan' 'Vanuatu' 'Venezuela' 'Vietnam' 'Yemen' 'Zambia' 'Zimbabwe']\n"
     ]
    }
   ],
   "source": [
    "# Looking at the categorical variables, Country, Capital City, and Language\n",
    "print(df['Country'].unique())"
   ]
  },
  {
   "cell_type": "code",
   "execution_count": 39,
   "metadata": {},
   "outputs": [
    {
     "name": "stdout",
     "output_type": "stream",
     "text": [
      "['Kabul' 'Tirana' 'Algiers' 'Luanda' \"St. John's\" 'Buenos Aires' 'Yerevan'\n",
      " 'Canberra' 'Vienna' 'Baku' 'Nassau' 'Manama' 'Dhaka' 'Bridgetown' 'Minsk'\n",
      " 'City of Brussels' 'Belmopan' 'Porto-Novo' 'Thimphu' 'Sucre' 'Sarajevo'\n",
      " 'Gaborone' 'Bras���' 'Bandar Seri Begawan' 'Sofia' 'Ouagadougou'\n",
      " 'Bujumbura' 'Yamoussoukro' 'Praia' 'Phnom Penh' 'Yaound�' 'Ottawa'\n",
      " 'Bangui' \"N'Djamena\" 'Santiago' 'Beijing' 'Bogot�' 'Moroni' 'Brazzaville'\n",
      " 'San Jos������' 'Zagreb' 'Nicosia' 'Prague' 'Kinshasa' 'Copenhagen'\n",
      " 'Djibouti City' 'Roseau' 'Santo Domingo' 'Quito' 'Cairo' 'San Salvador'\n",
      " 'Malabo' 'Tallinn' 'Addis Ababa' 'Suva' 'Helsinki' 'Paris' 'Libreville'\n",
      " 'Banjul' 'Tbilisi' 'Berlin' 'Accra' 'Athens' \"St. George's\"\n",
      " 'Guatemala City' 'Conakry' 'Bissau' 'Georgetown' 'Port-au-Prince'\n",
      " 'Tegucigalpa' 'Budapest' 'Reykjav��' 'New Delhi' 'Jakarta' 'Tehran'\n",
      " 'Baghdad' 'Dublin' 'Jerusalem' 'Rome' 'Kingston' 'Tokyo' 'Amman' 'Astana'\n",
      " 'Nairobi' 'South Tarawa' 'Kuwait City' 'Bishkek' 'Vientiane' 'Riga'\n",
      " 'Beirut' 'Maseru' 'Monrovia' 'nan' 'Vilnius' 'Luxembourg City'\n",
      " 'Antananarivo' 'Lilongwe' 'Kuala Lumpur' 'Mal�' 'Bamako' 'Valletta'\n",
      " 'Nouakchott' 'Port Louis' 'Mexico City' 'Palikir' 'Chi����' 'Ulaanbaatar'\n",
      " 'Podgorica' 'Rabat' 'Maputo' 'Naypyidaw' 'Windhoek' 'Kathmandu'\n",
      " 'Amsterdam' 'Wellington' 'Managua' 'Niamey' 'Abuja' 'Oslo' 'Muscat'\n",
      " 'Islamabad' 'Ngerulmud' 'Panama City' 'Port Moresby' 'Asunci��' 'Lima'\n",
      " 'Manila' 'Warsaw' 'Lisbon' 'Doha' 'Bucharest' 'Moscow' 'Kigali'\n",
      " 'Basseterre' 'Castries' 'Kingstown' 'Apia' 'Riyadh' 'Dakar' 'Belgrade'\n",
      " 'Victoria' 'Freetown' 'Bratislava' 'Ljubljana' 'Honiara' 'Pretoria'\n",
      " 'Seoul' 'Juba' 'Madrid' 'Colombo' 'Khartoum' 'Paramaribo' 'Stockholm'\n",
      " 'Bern' 'Damascus' 'Dushanbe' 'Dodoma' 'Bangkok' 'Dili' 'Lom�' 'Nuku����'\n",
      " 'Port of Spain' 'Tunis' 'Ankara' 'Kampala' 'Kyiv' 'Abu Dhabi' 'London'\n",
      " 'Washington' 'Montevideo' 'Tashkent' 'Port Vila' 'Caracas' 'Hanoi'\n",
      " 'Sanaa' 'Lusaka' 'Harare']\n"
     ]
    }
   ],
   "source": [
    "print(df['cap_city'].unique())"
   ]
  },
  {
   "cell_type": "code",
   "execution_count": 41,
   "metadata": {},
   "outputs": [
    {
     "name": "stdout",
     "output_type": "stream",
     "text": [
      "['Pashto' 'Albanian' 'Arabic' 'Portuguese' 'English' 'Spanish' 'Armenian'\n",
      " 'nan' 'German' 'Azerbaijani language' 'Bengali' 'Russian' 'French'\n",
      " 'Dzongkha' 'Bosnian' 'Malay' 'Bulgarian' 'Kirundi' 'Khmer language'\n",
      " 'Standard Chinese' 'Croatian' 'Greek' 'Czech' 'Danish'\n",
      " 'Modern Standard Arabic' 'Estonian' 'Amharic' 'Fiji Hindi' 'Swedish'\n",
      " 'Georgian' 'Hungarian' 'Icelandic' 'Hindi' 'Indonesian' 'Persian' 'Irish'\n",
      " 'Hebrew' 'Italian' 'Jamaican English' 'Swahili' 'Lao' 'Latvian'\n",
      " 'Lithuanian' 'Luxembourgish' 'Malaysian language' 'Divehi' 'Maltese'\n",
      " 'Romanian' 'Mongolian' 'Montenegrin language' 'Burmese' 'Nepali' 'Dutch'\n",
      " 'Norwegian' 'Urdu' 'Tok Pisin' 'Polish' 'Samoan' 'Serbian' 'Slovak'\n",
      " 'Slovene language' 'Afrikaans' 'Korean' 'Tamil' 'Thai' 'Tongan Language'\n",
      " 'Turkish' 'Ukrainian' 'Uzbek' 'Vietnamese' 'Shona']\n",
      "lang\n",
      "English             29\n",
      "French              24\n",
      "Spanish             18\n",
      "Arabic              16\n",
      "Portuguese           7\n",
      "                    ..\n",
      "Hebrew               1\n",
      "Italian              1\n",
      "Jamaican English     1\n",
      "Lao                  1\n",
      "Shona                1\n",
      "Name: count, Length: 71, dtype: int64\n"
     ]
    }
   ],
   "source": [
    "print(df['lang'].unique())\n",
    "print(df['lang'].value_counts())"
   ]
  },
  {
   "cell_type": "markdown",
   "metadata": {},
   "source": [
    "The Country (Country) and Capital City (cap_city) categorical variables have unique categories, which makes sense given they are distinct countries and city names. \n",
    "\n",
    "The official language (lang) categorical variable has a few languages, such as English, French, and Spanish, that are repeated. This makes sense as languages are exclusive to a single country.\n",
    "\n",
    "All three of these categorical variables are not hierarchical, they are all distinct and disjointed."
   ]
  },
  {
   "cell_type": "markdown",
   "metadata": {},
   "source": [
    "Now, let's look at the missing values"
   ]
  },
  {
   "cell_type": "code",
   "execution_count": 42,
   "metadata": {},
   "outputs": [
    {
     "data": {
      "text/plain": [
       "Country         0\n",
       "agr_land        1\n",
       "land_area       0\n",
       "Birth Rate      0\n",
       "cap_city        0\n",
       "Co2             0\n",
       "CPI             2\n",
       "CPI_change      1\n",
       "fert_rate       0\n",
       "gas            12\n",
       "GDP             0\n",
       "child_death     0\n",
       "life_expect     0\n",
       "lang            0\n",
       "health_cost     0\n",
       "pop             0\n",
       "tax_rev        14\n",
       "unemploy        8\n",
       "lat             0\n",
       "lat             0\n",
       "dtype: int64"
      ]
     },
     "execution_count": 42,
     "metadata": {},
     "output_type": "execute_result"
    }
   ],
   "source": [
    "    # 3. How much missing data is there per observation or per variable?\n",
    "\n",
    "# The number of missing values per variable. The variavbles with a significant amount of missing values are gas, tax_rev, and unemploy.\n",
    "df.isna().sum()    "
   ]
  },
  {
   "cell_type": "code",
   "execution_count": 55,
   "metadata": {},
   "outputs": [
    {
     "data": {
      "text/plain": [
       "Country\n",
       "Comoros                           2\n",
       "Dominica                          2\n",
       "Kiribati                          2\n",
       "Federated States of Micronesia    2\n",
       "Palau                             2\n",
       "Saint Kitts and Nevis             2\n",
       "Seychelles                        2\n",
       "South Sudan                       2\n",
       "Uzbekistan                        2\n",
       "dtype: int64"
      ]
     },
     "execution_count": 55,
     "metadata": {},
     "output_type": "execute_result"
    }
   ],
   "source": [
    "# To find the number of missing values per row I am making a new df that sums the NaNs along axis 1 (rows)\n",
    "nas_by_country = df.isna().sum(axis=1)\n",
    "# Shows the countries that have two or more missing values. It looks like there are no countries with more than two. \n",
    "nas_by_country[nas_by_country >= 2]"
   ]
  },
  {
   "cell_type": "code",
   "execution_count": null,
   "metadata": {},
   "outputs": [],
   "source": [
    "    # 4. What are the distributions of continuous variables? Are there outliers?"
   ]
  },
  {
   "cell_type": "markdown",
   "metadata": {},
   "source": [
    "I have 17 continuous variables. However, some variables, such as longtitude and latitude, are variables with no significance of their spread.\n",
    "Therefore, I am not going to try to graph or do analysis on these.\n",
    "There are going to be "
   ]
  },
  {
   "cell_type": "code",
   "execution_count": 67,
   "metadata": {},
   "outputs": [
    {
     "data": {
      "image/png": "[encoded data removed]",
      "text/plain": [
       "<Figure size 640x480 with 1 Axes>"
      ]
     },
     "metadata": {},
     "output_type": "display_data"
    },
    {
     "data": {
      "image/png": "[encoded data removed]",
      "text/plain": [
       "<Figure size 640x480 with 1 Axes>"
      ]
     },
     "metadata": {},
     "output_type": "display_data"
    },
    {
     "data": {
      "image/png": "[encoded data removed]",
      "text/plain": [
       "<Figure size 640x480 with 1 Axes>"
      ]
     },
     "metadata": {},
     "output_type": "display_data"
    },
    {
     "data": {
      "image/png": "[encoded data removed]",
      "text/plain": [
       "<Figure size 640x480 with 1 Axes>"
      ]
     },
     "metadata": {},
     "output_type": "display_data"
    },
    {
     "data": {
      "image/png": "[encoded data removed]",
      "text/plain": [
       "<Figure size 640x480 with 1 Axes>"
      ]
     },
     "metadata": {},
     "output_type": "display_data"
    },
    {
     "data": {
      "image/png": "[encoded data removed]",
      "text/plain": [
       "<Figure size 640x480 with 1 Axes>"
      ]
     },
     "metadata": {},
     "output_type": "display_data"
    },
    {
     "data": {
      "image/png": "[encoded data removed]",
      "text/plain": [
       "<Figure size 640x480 with 1 Axes>"
      ]
     },
     "metadata": {},
     "output_type": "display_data"
    },
    {
     "data": {
      "image/png": "[encoded data removed]",
      "text/plain": [
       "<Figure size 640x480 with 1 Axes>"
      ]
     },
     "metadata": {},
     "output_type": "display_data"
    },
    {
     "data": {
      "image/png": "[encoded data removed]",
      "text/plain": [
       "<Figure size 640x480 with 1 Axes>"
      ]
     },
     "metadata": {},
     "output_type": "display_data"
    },
    {
     "data": {
      "image/png": "[encoded data removed]",
      "text/plain": [
       "<Figure size 640x480 with 1 Axes>"
      ]
     },
     "metadata": {},
     "output_type": "display_data"
    },
    {
     "data": {
      "image/png": "[encoded data removed]",
      "text/plain": [
       "<Figure size 640x480 with 1 Axes>"
      ]
     },
     "metadata": {},
     "output_type": "display_data"
    },
    {
     "data": {
      "image/png": "[encoded data removed]",
      "text/plain": [
       "<Figure size 640x480 with 1 Axes>"
      ]
     },
     "metadata": {},
     "output_type": "display_data"
    },
    {
     "data": {
      "image/png": "[encoded data removed]",
      "text/plain": [
       "<Figure size 640x480 with 1 Axes>"
      ]
     },
     "metadata": {},
     "output_type": "display_data"
    },
    {
     "data": {
      "image/png": "[encoded data removed]",
      "text/plain": [
       "<Figure size 640x480 with 1 Axes>"
      ]
     },
     "metadata": {},
     "output_type": "display_data"
    },
    {
     "data": {
      "image/png": "[encoded data removed]",
      "text/plain": [
       "<Figure size 640x480 with 1 Axes>"
      ]
     },
     "metadata": {},
     "output_type": "display_data"
    },
    {
     "data": {
      "image/png": "[encoded data removed]",
      "text/plain": [
       "<Figure size 640x480 with 1 Axes>"
      ]
     },
     "metadata": {},
     "output_type": "display_data"
    },
    {
     "data": {
      "image/png": "[encoded data removed]",
      "text/plain": [
       "<Figure size 640x480 with 1 Axes>"
      ]
     },
     "metadata": {},
     "output_type": "display_data"
    }
   ],
   "source": [
    "# Showing boxplots of the continuous variables. First I will make a new dataframe with only the continuous variables. \n",
    "df_continuous = df.drop(columns = ['cap_city', 'lang'])\n",
    "\n",
    "# Using matplotlib to make a boxplot of the continuous variables. \n",
    "for col in df_continuous.columns:           # Iterate through columns, and boxplot\n",
    "    plt.figure() \n",
    "    df_continuous.boxplot(column = col)\n",
    "    plt.title('Boxplot of {}'.format(col))\n",
    "    plt.show()"
   ]
  },
  {
   "cell_type": "markdown",
   "metadata": {},
   "source": [
    "Looking at these variables, there are some outliers. This would include most notably land_area, GDP, CPI, CPI change, and unemployment. These outliers, however, make sense given the nature of these variables. Countries vary largely in size, cost of living, GDP generation, and how many people are working. Therefore, I will not strip these outliers for these variables as each country is different and not always comparable to others. "
   ]
  },
  {
   "cell_type": "code",
   "execution_count": 68,
   "metadata": {},
   "outputs": [],
   "source": [
    "# Finally! Making a new csv file\n",
    "df.to_csv('data.csv')"
   ]
  },
  {
   "cell_type": "markdown",
   "metadata": {},
   "source": [
    "### Brainstorming UI Components for Dashboard\n",
    "- I could include an dropdown component that allows the user to pick a country, and when they do so, a world map will change based on this.\n",
    "- I could use radio buttons to try to segment the different data categories for the user to switch through (i.e. demographics, economics, political).\n",
    "- I could use a list to display rows of general information about a selected country, that is connected to the dropdown for the world map. This could include information such as the population, density, land area, capital, official language, etc.\n",
    "- I could use a progress indicator (a loading icon) that would appear when the data is loading/changing when the user clicks on the different radio buttons. \n"
   ]
  },
  {
   "cell_type": "markdown",
   "metadata": {},
   "source": [
    "### Data Visualizations\n",
    "1. A 2-D or 3-D map that uses Geopandas or another package to display the longitude and latitude coordinates for the user to see where the country is on a map\n",
    "\n",
    "2. A scatter plot showing the relationship between the GDP and Co2 emissions by country (maybe having a dropdown for user to pick a maximum of 5 countries to compare)\n",
    "\n",
    "3. A treemap to show the Co2 emissions of the all the countries with year at the bottom (2023)\n",
    "\n",
    "4. A bubble chart showing the relationship between GDP and unemployment\n",
    "\n",
    "5. A scatter plot comparing infant mortality and out of pocket health expenditures"
   ]
  },
  {
   "cell_type": "markdown",
   "metadata": {},
   "source": [
    "# Data Dictionary "
   ]
  },
  {
   "cell_type": "markdown",
   "metadata": {},
   "source": [
    "|Variable|Variable Name in Dataframe|Operational Meaning/Definition|\n",
    "|---------|---------|---------|\n",
    "|Country|Country| Name of the Country, as a string|\n",
    "|Agricultural Land (%)|agr_land| Percentage of the land area of the country that is used for agriculture. Percentage stripped and value is a float|\n",
    "|Land Area|land_area|Total land area of the country in square kilometers (Km^2), float|\n",
    "|Birth Rate|Birth Rate|Number of births / 1,000 people per year, as a float\n",
    "|Capital City/Major City|cap_city|Name of the capital or major city in the country, as a string|\n",
    "|CO2-Emissions|Co2|Carbon dioxide emissions measured in tons, measured as a float|\n",
    "|CPI|CPI|Consumer Price Index (CPI), the average change over time consumers pay for a basket of items (i.e. houshold items). Measured as a float|\n",
    "CPI Change (%)|CPI_change| The percentage change in the CPI compared to the previous year (2022), measured as a float|\n",
    "Fertility Rate|fert_rate|Average number of children born to a woman during her lifetime, measured as a float|\n",
    "Gasoline Price|gas|Price of gasoline per liter in USD for all countries, measured as a float|\n",
    "GDP|GDP|Gross Domestic Product (GDP), which is the total value of goods and services produced in the country, all values standardized to USD. The value is divded by a million instead of its raw value. Measured as a float|\n",
    "Infant mortality|child_death|Number of deaths per 1,000 live births before reaching one year of age, measured as a float|\n",
    "Official language|lang|Official language spoken in the country, measured as a string|\n",
    "Out of pocket health expenditure|health_cost|Percentage of total health expenditure paid out-of-pocket by individuals, measured as a float|\n",
    "Population|pop|Total population of the country, as a raw number. Measured as an integer|\n",
    "Tax revenue (%)|tax_rev| Tax revenue as a percentage of GDP, measured as a float|\n",
    "Unemployment rate|unemploy|Percentage of the labor force, not looking at total population, that is unemployed. Measured as a float|\n",
    "Latitude|lat|Latitude coordinate of the country, measured as a float|\n",
    "Longitude|long|Longitude coordinate of the country, measured as a float| "
   ]
  }
 ],
 "metadata": {
  "kernelspec": {
   "display_name": "ds4003",
   "language": "python",
   "name": "python3"
  },
  "language_info": {
   "codemirror_mode": {
    "name": "ipython",
    "version": 3
   },
   "file_extension": ".py",
   "mimetype": "text/x-python",
   "name": "python",
   "nbconvert_exporter": "python",
   "pygments_lexer": "ipython3",
   "version": "3.8.18"
  }
 },
 "nbformat": 4,
 "nbformat_minor": 2
}
